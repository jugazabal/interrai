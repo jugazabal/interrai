{
 "cells": [
  {
   "cell_type": "markdown",
   "id": "feffd558-0126-4c67-b738-85e2b8937b1b",
   "metadata": {},
   "source": [
    "# Data Science Tools and Ecosystem"
   ]
  },
  {
   "cell_type": "markdown",
   "id": "f4888e9a-63aa-434a-a99a-6c03a3acfa10",
   "metadata": {},
   "source": [
    "## In this notebook, Data Science Tools and Ecosystem are summarized."
   ]
  },
  {
   "cell_type": "markdown",
   "id": "b45abc24-edbf-4fd6-81a3-4788cd70a358",
   "metadata": {},
   "source": [
    "<b>Objectives:</b>\n",
    "<ul>\n",
    "    <li>List popular languages for Data Science</li>\n",
    "    <li>List commonly used libraries used by Data Science</li>\n",
    "    <li>Data Science Open Source tools</li>\n",
    "    <li>Examples of arithmetic operations</li>\n",
    "    <li>Conversion from minutes to hours</li>\n",
    "</ul>"
   ]
  },
  {
   "cell_type": "markdown",
   "id": "9adfe1c5-2140-4375-9d4a-474ca5ea2a0b",
   "metadata": {},
   "source": [
    "<b>Some of the popular languages that Data Scientists use are:</b>\n",
    "<ol>\n",
    "<li>Python</li>\n",
    "<li>R</li>\n",
    "<li>Julia</li>\n",
    "<li>Scala</li>\n",
    "<li>SQL</li>\n",
    "<li>Unix</li>\n",
    "</ol> "
   ]
  },
  {
   "cell_type": "markdown",
   "id": "2dde870e-2ea6-456c-9caa-5832f6db848b",
   "metadata": {},
   "source": [
    "<b>Some of the commonly used libraries used by Data Scientists include:</b>\n",
    "<ol>\n",
    "    <li>Pandas</li>\n",
    "    <li>ggplot2</li>\n",
    "    <li>tensorflow</li>\n",
    "    <li>tidyverse</li>\n",
    "    <li>numpy</li>\n",
    "</ol>"
   ]
  },
  {
   "cell_type": "markdown",
   "id": "937398d3-48c1-4495-9534-31601a212341",
   "metadata": {},
   "source": [
    "<table>\n",
    "    <tr></tr>\n",
    "</table>"
   ]
  },
  {
   "cell_type": "markdown",
   "id": "21d0e80f-3359-4d1d-b77a-3a5b6df357aa",
   "metadata": {},
   "source": [
    "<table>\n",
    "    <tr><td>Data Science Tools</tr></th>\n",
    "    <tr><td>Jupyter Lab</td></tr>\n",
    "    <tr><td>Apache Zeppelin</td></tr>\n",
    "    <tr><td>R Studio</td></tr>\n",
    "</table>"
   ]
  },
  {
   "cell_type": "markdown",
   "id": "dc512951-9256-4424-90d3-c97c775f47de",
   "metadata": {},
   "source": [
    "<h3>Below are a few examples of evaluating arithmetic expressions in Python</h3>\n",
    "\n",
    "#### Addition\n",
    "result = 3 + 5 <br>\n",
    "print(f\"3 + 5 = {result}\")\n",
    "\n",
    "#### Subtraction\n",
    "result = 10 - 4 <br>\n",
    "print(f\"10 - 4 = {result}\")\n",
    "\n",
    "#### Multiplication\n",
    "result = 7 * 6 <br>\n",
    "print(f\"7 * 6 = {result}\")\n",
    "\n",
    "#### Division\n",
    "result = 8 / 2 <br>\n",
    "print(f\"8 / 2 = {result}\")\n"
   ]
  },
  {
   "cell_type": "code",
   "execution_count": 1,
   "id": "ae3a12ec-6585-4e90-8ef2-80e6751ee168",
   "metadata": {},
   "outputs": [
    {
     "data": {
      "text/plain": [
       "17"
      ]
     },
     "execution_count": 1,
     "metadata": {},
     "output_type": "execute_result"
    }
   ],
   "source": [
    "# This is a simple arithmetic expression to multiply then add ingegers\n",
    "(3*4)+5"
   ]
  },
  {
   "cell_type": "code",
   "execution_count": 2,
   "id": "e924197e-6192-4ff1-9373-c181526b6223",
   "metadata": {},
   "outputs": [
    {
     "data": {
      "text/plain": [
       "3.3333333333333335"
      ]
     },
     "execution_count": 2,
     "metadata": {},
     "output_type": "execute_result"
    }
   ],
   "source": [
    "# This will convert 200 minutes to hours by dividing by 60\n",
    "200/60"
   ]
  },
  {
   "cell_type": "markdown",
   "id": "c2cb3179-6873-42fb-acee-532d05e846e0",
   "metadata": {},
   "source": [
    "<h2>Author:</h2>\n",
    "Juan Marcos Garcia Aranzabal"
   ]
  },
  {
   "cell_type": "code",
   "execution_count": null,
   "id": "6c6792e5-f975-4783-bb7f-ee838d1a6a6f",
   "metadata": {},
   "outputs": [],
   "source": []
  }
 ],
 "metadata": {
  "kernelspec": {
   "display_name": "Python 3 (ipykernel)",
   "language": "python",
   "name": "python3"
  },
  "language_info": {
   "codemirror_mode": {
    "name": "ipython",
    "version": 3
   },
   "file_extension": ".py",
   "mimetype": "text/x-python",
   "name": "python",
   "nbconvert_exporter": "python",
   "pygments_lexer": "ipython3",
   "version": "3.10.14"
  }
 },
 "nbformat": 4,
 "nbformat_minor": 5
}
